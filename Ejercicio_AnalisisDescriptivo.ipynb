{
 "cells": [
  {
   "cell_type": "markdown",
   "metadata": {
    "id": "tglID2Nz-jn3"
   },
   "source": [
    "# Parte 2: Ejercicios\n",
    "\n",
    "En esta sección, les propongo algunos ejercicios sobre la manipulación del dataset, la construcción de visualizaciones y para interpretar los patrones que van emergiendo."
   ]
  },
  {
   "cell_type": "markdown",
   "metadata": {
    "id": "dT6ii6nP_ze_"
   },
   "source": [
    "## Ejercicio 1. Distribución de edades con respecto a categorías\n",
    "\n",
    "En la sección _Discretización de variables continuas_, definimos las categorías `Adolescente`, `Joven adulto`, etc. sobre intervalos de edad.\n",
    "\n",
    "1. Cree un diagrama de barras la variable discreta `edad_cat` que definimos en tal sección. Discuta la información que puede visualizar en tal diagrama de barras.\n",
    "\n",
    "2. Proponga una visualización alternativa que nos permita ver de manera mas apropiada la distribución de edades y la información sobre la categorías `Adolescente`, `Joven adulto`, etc.\n",
    "\n",
    "> _Agregue celdas a continuación para resolver los puntos antes descritos_ \n"
   ]
  },
  {
   "cell_type": "code",
   "execution_count": null,
   "metadata": {},
   "outputs": [],
   "source": []
  },
  {
   "cell_type": "markdown",
   "metadata": {
    "id": "-Sy0EgvJDcYa"
   },
   "source": [
    "## Ejercicio 2. Distribución del índice de masa corporal con respecto a categorías (20 puntos)\n",
    "\n",
    "1. Cree una variable discreta bajo el nombre `bmi_cat` que particione los valores de `bmi` de acuerdo a las siguientes categorías (intervalos tomados del siguiente [sitio](https://www.cancer.org/cancer/cancer-causes/diet-physical-activity/body-weight-and-cancer-risk/adult-bmi.html)):\n",
    "\n",
    "    * `Bajo peso`: si el valor de `bmi` es menor que 18.5\n",
    "    * `Normal` si el valor de `bmi` está en el intervalor [18.5, 25)\n",
    "    * `Sobre peso` si el valor de `bmi` está en el intervalo [25, 30)\n",
    "    * `Obeso` si el valor de `bmi` es mayor que 30\n",
    "    \n",
    "2. Cree un diagrama de barras en el que `bmi_cat` sea la variable mostrada en el eje X, con dos barras (una por cada sexo).\n",
    "\n",
    "3. Discuta la información que infiere del diagrama de barras."
   ]
  },
  {
   "cell_type": "code",
   "execution_count": null,
   "metadata": {},
   "outputs": [],
   "source": []
  },
  {
   "cell_type": "markdown",
   "metadata": {
    "id": "AKkaPTr8G8ZZ"
   },
   "source": [
    "## Ejercicio 3. Distribución geográfica de individuos fumadores vs no fumadores (20 puntos)\n",
    "\n",
    "1. Construya un diagrama de barras usando en el eje X la variable `region`, y mostrando dos barras una para la partición de individios fumadores y la otra para los no fumadores.\n",
    "\n",
    "2. En la sección _Particionamiento del dataset_ mostramos como crear dos particiones en base al sexo del beneficiario. Cree un diagrama de barras para cada una de las particiones, con `region` en el eje X y mostrando barras para fumadores y no fumadores.\n",
    "\n",
    "3. Discuta la información que infiere de los diagramas anteriores.\n"
   ]
  },
  {
   "cell_type": "markdown",
   "metadata": {
    "id": "zclCYK73JGOj"
   },
   "source": [
    "## Ejercicio 4. Identificación de los factores que inciden en los cargos de aseguranza (40 puntos)\n",
    "\n",
    "En las secciones _Exploración de variables continuas_ y _Análisis de correlación usando \"heatmaps\"_ pudimos concluir que, aunque la correlación entre `age` y `charges` es la mayor con respecto a otras variables numéricas, `age` parece no ser el factor mas importante en este rubro. En este ejercicio trataremos de elucidar este misterio.\n",
    "\n",
    "1. Cree un diagrama de dispersión (scatter plot) con las variables `bmi` y `charges`. En efecto, iniciaremos con la intuición de que el peso es determinante.\n",
    "\n",
    "2. Discuta lo que infiere de este diagrama.\n",
    "\n",
    "3. Agregue una tercera análisis: especifique que el color del punto en el diagrama de dispersión es determinado por el valor de la variable `smoker` (hint: el color es especificado con el elemento \"estético\" `fill`, como lo hicimos con la variable `sex` en el diagrama de barras)\n",
    "\n",
    "4. Comente lo que observa en esta nueva versión del diagrama.\n",
    "\n",
    "5. En este momento, la variable `smoker` es la única para la cual no tenemos una variante numérica, ya que transformamos ya la variable `sex` en `sex_num`. Use el mismo método para agregar la variable `smoker_num`.\n",
    "\n",
    "6. Calcule el heapmap con los coeficientes de correlación de nuestro dataset.\n",
    "\n",
    "7. Comente lo que puede inferir del heapmap.\n",
    "\n",
    "8. Separe el dataset en dos particiones: una con los fumadores y la otra con los no fumadores.\n",
    "\n",
    "9. Calcule nuevamente el heapmap con los coeficientes de correlación para ambas particiones.\n",
    "\n",
    "10. Comente lo que puede inferir.\n",
    "\n",
    "* ¿Cuáles son los factores que parecen tener un impacto en la determinación del costo de aseguranza para la partición de fumadores?\n",
    "\n",
    "* ¿Cuáles son los factores significativos que indicen en el costo de aseguranza para los no fumadores?"
   ]
  }
 ],
 "metadata": {
  "colab": {
   "collapsed_sections": [],
   "name": "Tarea1-AnalisisDescriptivo.ipynb",
   "provenance": []
  },
  "kernelspec": {
   "display_name": "Python 3",
   "language": "python",
   "name": "python3"
  },
  "language_info": {
   "codemirror_mode": {
    "name": "ipython",
    "version": 3
   },
   "file_extension": ".py",
   "mimetype": "text/x-python",
   "name": "python",
   "nbconvert_exporter": "python",
   "pygments_lexer": "ipython3",
   "version": "3.8.13 (default, Oct  4 2022, 14:00:32) \n[GCC 9.4.0]"
  },
  "vscode": {
   "interpreter": {
    "hash": "9ac03a0a6051494cc606d484d27d20fce22fb7b4d169f583271e11d5ba46a56e"
   }
  }
 },
 "nbformat": 4,
 "nbformat_minor": 1
}
